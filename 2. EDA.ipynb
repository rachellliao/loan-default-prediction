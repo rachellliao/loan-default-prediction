{
 "cells": [
  {
   "cell_type": "markdown",
   "metadata": {},
   "source": [
    "## Loading and Setup"
   ]
  },
  {
   "cell_type": "code",
   "execution_count": 1,
   "metadata": {},
   "outputs": [
    {
     "name": "stderr",
     "output_type": "stream",
     "text": [
      "/Users/rachelliao/anaconda3/envs/ensemble/lib/python3.8/site-packages/xgboost/compat.py:93: FutureWarning: pandas.Int64Index is deprecated and will be removed from pandas in a future version. Use pandas.Index with the appropriate dtype instead.\n",
      "  from pandas import MultiIndex, Int64Index\n"
     ]
    }
   ],
   "source": [
    "# Import necessary libraries\n",
    "import pandas as pd\n",
    "import numpy as np\n",
    "import matplotlib.pyplot as plt\n",
    "import seaborn as sns\n",
    "import scipy.stats as stats\n",
    "from sklearn.model_selection import train_test_split\n",
    "from sklearn.feature_selection import SelectKBest, chi2, f_classif\n",
    "from sklearn.preprocessing import OneHotEncoder\n",
    "from sklearn.linear_model import LogisticRegression\n",
    "from sklearn.metrics import accuracy_score, confusion_matrix, classification_report\n",
    "from sklearn.svm import SVC\n",
    "from sklearn.ensemble import RandomForestClassifier\n",
    "from xgboost import XGBClassifier\n",
    "# Filter warnings\n",
    "from warnings import filterwarnings\n",
    "filterwarnings('ignore')"
   ]
  },
  {
   "cell_type": "code",
   "execution_count": 2,
   "metadata": {},
   "outputs": [],
   "source": [
    "# Load the dataset\n",
    "df = pd.read_parquet('dataset/LoanData_after_DataCleaning.parquet')"
   ]
  },
  {
   "cell_type": "markdown",
   "metadata": {},
   "source": [
    "## Assessment"
   ]
  },
  {
   "cell_type": "code",
   "execution_count": 3,
   "metadata": {},
   "outputs": [
    {
     "data": {
      "text/plain": [
       "(21015, 29)"
      ]
     },
     "execution_count": 3,
     "metadata": {},
     "output_type": "execute_result"
    }
   ],
   "source": [
    "# Print the shape of the data\n",
    "df.shape"
   ]
  },
  {
   "cell_type": "code",
   "execution_count": 4,
   "metadata": {},
   "outputs": [
    {
     "data": {
      "text/html": [
       "<div>\n",
       "<style scoped>\n",
       "    .dataframe tbody tr th:only-of-type {\n",
       "        vertical-align: middle;\n",
       "    }\n",
       "\n",
       "    .dataframe tbody tr th {\n",
       "        vertical-align: top;\n",
       "    }\n",
       "\n",
       "    .dataframe thead th {\n",
       "        text-align: right;\n",
       "    }\n",
       "</style>\n",
       "<table border=\"1\" class=\"dataframe\">\n",
       "  <thead>\n",
       "    <tr style=\"text-align: right;\">\n",
       "      <th></th>\n",
       "      <th>loan_amnt</th>\n",
       "      <th>funded_amnt</th>\n",
       "      <th>funded_amnt_inv</th>\n",
       "      <th>term</th>\n",
       "      <th>int_rate</th>\n",
       "      <th>installment</th>\n",
       "      <th>grade</th>\n",
       "      <th>sub_grade</th>\n",
       "      <th>emp_title</th>\n",
       "      <th>emp_length</th>\n",
       "      <th>...</th>\n",
       "      <th>fico_range_low</th>\n",
       "      <th>fico_range_high</th>\n",
       "      <th>inq_last_6mths</th>\n",
       "      <th>open_acc</th>\n",
       "      <th>pub_rec</th>\n",
       "      <th>revol_bal</th>\n",
       "      <th>revol_util</th>\n",
       "      <th>total_acc</th>\n",
       "      <th>initial_list_status</th>\n",
       "      <th>application_type</th>\n",
       "    </tr>\n",
       "  </thead>\n",
       "  <tbody>\n",
       "    <tr>\n",
       "      <th>0</th>\n",
       "      <td>3600.0</td>\n",
       "      <td>3600.0</td>\n",
       "      <td>3600.0</td>\n",
       "      <td>36 months</td>\n",
       "      <td>13.99</td>\n",
       "      <td>123.03</td>\n",
       "      <td>C</td>\n",
       "      <td>C4</td>\n",
       "      <td>leadman</td>\n",
       "      <td>10+ years</td>\n",
       "      <td>...</td>\n",
       "      <td>675.0</td>\n",
       "      <td>679.0</td>\n",
       "      <td>1.0</td>\n",
       "      <td>7.0</td>\n",
       "      <td>0.0</td>\n",
       "      <td>2765.0</td>\n",
       "      <td>29.7</td>\n",
       "      <td>13.0</td>\n",
       "      <td>w</td>\n",
       "      <td>Individual</td>\n",
       "    </tr>\n",
       "    <tr>\n",
       "      <th>1</th>\n",
       "      <td>24700.0</td>\n",
       "      <td>24700.0</td>\n",
       "      <td>24700.0</td>\n",
       "      <td>36 months</td>\n",
       "      <td>11.99</td>\n",
       "      <td>820.28</td>\n",
       "      <td>C</td>\n",
       "      <td>C1</td>\n",
       "      <td>Engineer</td>\n",
       "      <td>10+ years</td>\n",
       "      <td>...</td>\n",
       "      <td>715.0</td>\n",
       "      <td>719.0</td>\n",
       "      <td>4.0</td>\n",
       "      <td>22.0</td>\n",
       "      <td>0.0</td>\n",
       "      <td>21470.0</td>\n",
       "      <td>19.2</td>\n",
       "      <td>38.0</td>\n",
       "      <td>w</td>\n",
       "      <td>Individual</td>\n",
       "    </tr>\n",
       "    <tr>\n",
       "      <th>3</th>\n",
       "      <td>35000.0</td>\n",
       "      <td>35000.0</td>\n",
       "      <td>35000.0</td>\n",
       "      <td>60 months</td>\n",
       "      <td>14.85</td>\n",
       "      <td>829.90</td>\n",
       "      <td>C</td>\n",
       "      <td>C5</td>\n",
       "      <td>Information Systems Officer</td>\n",
       "      <td>10+ years</td>\n",
       "      <td>...</td>\n",
       "      <td>785.0</td>\n",
       "      <td>789.0</td>\n",
       "      <td>0.0</td>\n",
       "      <td>13.0</td>\n",
       "      <td>0.0</td>\n",
       "      <td>7802.0</td>\n",
       "      <td>11.6</td>\n",
       "      <td>17.0</td>\n",
       "      <td>w</td>\n",
       "      <td>Individual</td>\n",
       "    </tr>\n",
       "    <tr>\n",
       "      <th>4</th>\n",
       "      <td>10400.0</td>\n",
       "      <td>10400.0</td>\n",
       "      <td>10400.0</td>\n",
       "      <td>60 months</td>\n",
       "      <td>22.45</td>\n",
       "      <td>289.91</td>\n",
       "      <td>F</td>\n",
       "      <td>F1</td>\n",
       "      <td>Contract Specialist</td>\n",
       "      <td>3 years</td>\n",
       "      <td>...</td>\n",
       "      <td>695.0</td>\n",
       "      <td>699.0</td>\n",
       "      <td>3.0</td>\n",
       "      <td>12.0</td>\n",
       "      <td>0.0</td>\n",
       "      <td>21929.0</td>\n",
       "      <td>64.5</td>\n",
       "      <td>35.0</td>\n",
       "      <td>w</td>\n",
       "      <td>Individual</td>\n",
       "    </tr>\n",
       "    <tr>\n",
       "      <th>5</th>\n",
       "      <td>11950.0</td>\n",
       "      <td>11950.0</td>\n",
       "      <td>11950.0</td>\n",
       "      <td>36 months</td>\n",
       "      <td>13.44</td>\n",
       "      <td>405.18</td>\n",
       "      <td>C</td>\n",
       "      <td>C3</td>\n",
       "      <td>Veterinary Tecnician</td>\n",
       "      <td>4 years</td>\n",
       "      <td>...</td>\n",
       "      <td>690.0</td>\n",
       "      <td>694.0</td>\n",
       "      <td>0.0</td>\n",
       "      <td>5.0</td>\n",
       "      <td>0.0</td>\n",
       "      <td>8822.0</td>\n",
       "      <td>68.4</td>\n",
       "      <td>6.0</td>\n",
       "      <td>w</td>\n",
       "      <td>Individual</td>\n",
       "    </tr>\n",
       "  </tbody>\n",
       "</table>\n",
       "<p>5 rows × 29 columns</p>\n",
       "</div>"
      ],
      "text/plain": [
       "   loan_amnt  funded_amnt  funded_amnt_inv        term  int_rate  installment  \\\n",
       "0     3600.0       3600.0           3600.0   36 months     13.99       123.03   \n",
       "1    24700.0      24700.0          24700.0   36 months     11.99       820.28   \n",
       "3    35000.0      35000.0          35000.0   60 months     14.85       829.90   \n",
       "4    10400.0      10400.0          10400.0   60 months     22.45       289.91   \n",
       "5    11950.0      11950.0          11950.0   36 months     13.44       405.18   \n",
       "\n",
       "  grade sub_grade                    emp_title emp_length  ... fico_range_low  \\\n",
       "0     C        C4                      leadman  10+ years  ...          675.0   \n",
       "1     C        C1                     Engineer  10+ years  ...          715.0   \n",
       "3     C        C5  Information Systems Officer  10+ years  ...          785.0   \n",
       "4     F        F1          Contract Specialist    3 years  ...          695.0   \n",
       "5     C        C3         Veterinary Tecnician    4 years  ...          690.0   \n",
       "\n",
       "   fico_range_high inq_last_6mths open_acc pub_rec revol_bal  revol_util  \\\n",
       "0            679.0            1.0      7.0     0.0    2765.0        29.7   \n",
       "1            719.0            4.0     22.0     0.0   21470.0        19.2   \n",
       "3            789.0            0.0     13.0     0.0    7802.0        11.6   \n",
       "4            699.0            3.0     12.0     0.0   21929.0        64.5   \n",
       "5            694.0            0.0      5.0     0.0    8822.0        68.4   \n",
       "\n",
       "   total_acc initial_list_status  application_type  \n",
       "0       13.0                   w        Individual  \n",
       "1       38.0                   w        Individual  \n",
       "3       17.0                   w        Individual  \n",
       "4       35.0                   w        Individual  \n",
       "5        6.0                   w        Individual  \n",
       "\n",
       "[5 rows x 29 columns]"
      ]
     },
     "execution_count": 4,
     "metadata": {},
     "output_type": "execute_result"
    }
   ],
   "source": [
    "# # Print the first 5 rows of the dataset\n",
    "df.head()"
   ]
  },
  {
   "cell_type": "code",
   "execution_count": 5,
   "metadata": {},
   "outputs": [
    {
     "name": "stdout",
     "output_type": "stream",
     "text": [
      "<class 'pandas.core.frame.DataFrame'>\n",
      "Int64Index: 21015 entries, 0 to 22509\n",
      "Data columns (total 29 columns):\n",
      " #   Column               Non-Null Count  Dtype  \n",
      "---  ------               --------------  -----  \n",
      " 0   loan_amnt            21015 non-null  float64\n",
      " 1   funded_amnt          21015 non-null  float64\n",
      " 2   funded_amnt_inv      21015 non-null  float64\n",
      " 3   term                 21015 non-null  object \n",
      " 4   int_rate             21015 non-null  float64\n",
      " 5   installment          21015 non-null  float64\n",
      " 6   grade                21015 non-null  object \n",
      " 7   sub_grade            21015 non-null  object \n",
      " 8   emp_title            21015 non-null  object \n",
      " 9   emp_length           21015 non-null  object \n",
      " 10  home_ownership       21015 non-null  object \n",
      " 11  annual_inc           21015 non-null  float64\n",
      " 12  verification_status  21015 non-null  object \n",
      " 13  loan_status          21015 non-null  object \n",
      " 14  purpose              21015 non-null  object \n",
      " 15  addr_state           21015 non-null  object \n",
      " 16  dti                  21015 non-null  float64\n",
      " 17  delinq_2yrs          21015 non-null  float64\n",
      " 18  earliest_cr_line     21015 non-null  object \n",
      " 19  fico_range_low       21015 non-null  float64\n",
      " 20  fico_range_high      21015 non-null  float64\n",
      " 21  inq_last_6mths       21015 non-null  float64\n",
      " 22  open_acc             21015 non-null  float64\n",
      " 23  pub_rec              21015 non-null  float64\n",
      " 24  revol_bal            21015 non-null  float64\n",
      " 25  revol_util           21015 non-null  float64\n",
      " 26  total_acc            21015 non-null  float64\n",
      " 27  initial_list_status  21015 non-null  object \n",
      " 28  application_type     21015 non-null  object \n",
      "dtypes: float64(16), object(13)\n",
      "memory usage: 4.8+ MB\n"
     ]
    }
   ],
   "source": [
    "# Display the info of the dataset\n",
    "df.info()"
   ]
  },
  {
   "cell_type": "code",
   "execution_count": 6,
   "metadata": {},
   "outputs": [
    {
     "data": {
      "text/html": [
       "<div>\n",
       "<style scoped>\n",
       "    .dataframe tbody tr th:only-of-type {\n",
       "        vertical-align: middle;\n",
       "    }\n",
       "\n",
       "    .dataframe tbody tr th {\n",
       "        vertical-align: top;\n",
       "    }\n",
       "\n",
       "    .dataframe thead th {\n",
       "        text-align: right;\n",
       "    }\n",
       "</style>\n",
       "<table border=\"1\" class=\"dataframe\">\n",
       "  <thead>\n",
       "    <tr style=\"text-align: right;\">\n",
       "      <th></th>\n",
       "      <th>loan_amnt</th>\n",
       "      <th>funded_amnt</th>\n",
       "      <th>funded_amnt_inv</th>\n",
       "      <th>int_rate</th>\n",
       "      <th>installment</th>\n",
       "      <th>annual_inc</th>\n",
       "      <th>dti</th>\n",
       "      <th>delinq_2yrs</th>\n",
       "      <th>fico_range_low</th>\n",
       "      <th>fico_range_high</th>\n",
       "      <th>inq_last_6mths</th>\n",
       "      <th>open_acc</th>\n",
       "      <th>pub_rec</th>\n",
       "      <th>revol_bal</th>\n",
       "      <th>revol_util</th>\n",
       "      <th>total_acc</th>\n",
       "    </tr>\n",
       "  </thead>\n",
       "  <tbody>\n",
       "    <tr>\n",
       "      <th>count</th>\n",
       "      <td>21015.000000</td>\n",
       "      <td>21015.000000</td>\n",
       "      <td>21015.000000</td>\n",
       "      <td>21015.000000</td>\n",
       "      <td>21015.000000</td>\n",
       "      <td>2.101500e+04</td>\n",
       "      <td>21015.000000</td>\n",
       "      <td>21015.000000</td>\n",
       "      <td>21015.000000</td>\n",
       "      <td>21015.000000</td>\n",
       "      <td>21015.000000</td>\n",
       "      <td>21015.000000</td>\n",
       "      <td>21015.000000</td>\n",
       "      <td>21015.000000</td>\n",
       "      <td>21015.000000</td>\n",
       "      <td>21015.000000</td>\n",
       "    </tr>\n",
       "    <tr>\n",
       "      <th>mean</th>\n",
       "      <td>15247.552938</td>\n",
       "      <td>15247.552938</td>\n",
       "      <td>15241.224126</td>\n",
       "      <td>12.254598</td>\n",
       "      <td>441.629202</td>\n",
       "      <td>8.003775e+04</td>\n",
       "      <td>19.317213</td>\n",
       "      <td>0.338330</td>\n",
       "      <td>694.943850</td>\n",
       "      <td>698.943945</td>\n",
       "      <td>0.608232</td>\n",
       "      <td>12.226315</td>\n",
       "      <td>0.232072</td>\n",
       "      <td>17674.564454</td>\n",
       "      <td>51.906013</td>\n",
       "      <td>25.616227</td>\n",
       "    </tr>\n",
       "    <tr>\n",
       "      <th>std</th>\n",
       "      <td>8758.640338</td>\n",
       "      <td>8758.640338</td>\n",
       "      <td>8753.737831</td>\n",
       "      <td>4.210099</td>\n",
       "      <td>250.163947</td>\n",
       "      <td>6.237186e+04</td>\n",
       "      <td>8.766120</td>\n",
       "      <td>0.886337</td>\n",
       "      <td>31.055581</td>\n",
       "      <td>31.056042</td>\n",
       "      <td>0.889796</td>\n",
       "      <td>5.792745</td>\n",
       "      <td>0.639771</td>\n",
       "      <td>23093.748226</td>\n",
       "      <td>24.112053</td>\n",
       "      <td>12.192821</td>\n",
       "    </tr>\n",
       "    <tr>\n",
       "      <th>min</th>\n",
       "      <td>1000.000000</td>\n",
       "      <td>1000.000000</td>\n",
       "      <td>1000.000000</td>\n",
       "      <td>5.320000</td>\n",
       "      <td>30.540000</td>\n",
       "      <td>3.800000e+03</td>\n",
       "      <td>0.000000</td>\n",
       "      <td>0.000000</td>\n",
       "      <td>660.000000</td>\n",
       "      <td>664.000000</td>\n",
       "      <td>0.000000</td>\n",
       "      <td>1.000000</td>\n",
       "      <td>0.000000</td>\n",
       "      <td>0.000000</td>\n",
       "      <td>0.000000</td>\n",
       "      <td>4.000000</td>\n",
       "    </tr>\n",
       "    <tr>\n",
       "      <th>25%</th>\n",
       "      <td>8000.000000</td>\n",
       "      <td>8000.000000</td>\n",
       "      <td>8000.000000</td>\n",
       "      <td>9.170000</td>\n",
       "      <td>258.700000</td>\n",
       "      <td>5.000000e+04</td>\n",
       "      <td>12.690000</td>\n",
       "      <td>0.000000</td>\n",
       "      <td>670.000000</td>\n",
       "      <td>674.000000</td>\n",
       "      <td>0.000000</td>\n",
       "      <td>8.000000</td>\n",
       "      <td>0.000000</td>\n",
       "      <td>6379.500000</td>\n",
       "      <td>33.900000</td>\n",
       "      <td>17.000000</td>\n",
       "    </tr>\n",
       "    <tr>\n",
       "      <th>50%</th>\n",
       "      <td>14000.000000</td>\n",
       "      <td>14000.000000</td>\n",
       "      <td>14000.000000</td>\n",
       "      <td>11.990000</td>\n",
       "      <td>384.920000</td>\n",
       "      <td>6.946000e+04</td>\n",
       "      <td>18.790000</td>\n",
       "      <td>0.000000</td>\n",
       "      <td>690.000000</td>\n",
       "      <td>694.000000</td>\n",
       "      <td>0.000000</td>\n",
       "      <td>11.000000</td>\n",
       "      <td>0.000000</td>\n",
       "      <td>12074.000000</td>\n",
       "      <td>51.800000</td>\n",
       "      <td>24.000000</td>\n",
       "    </tr>\n",
       "    <tr>\n",
       "      <th>75%</th>\n",
       "      <td>20400.000000</td>\n",
       "      <td>20400.000000</td>\n",
       "      <td>20400.000000</td>\n",
       "      <td>14.480000</td>\n",
       "      <td>589.785000</td>\n",
       "      <td>9.600000e+04</td>\n",
       "      <td>25.560000</td>\n",
       "      <td>0.000000</td>\n",
       "      <td>710.000000</td>\n",
       "      <td>714.000000</td>\n",
       "      <td>1.000000</td>\n",
       "      <td>15.000000</td>\n",
       "      <td>0.000000</td>\n",
       "      <td>21499.000000</td>\n",
       "      <td>70.300000</td>\n",
       "      <td>32.000000</td>\n",
       "    </tr>\n",
       "    <tr>\n",
       "      <th>max</th>\n",
       "      <td>35000.000000</td>\n",
       "      <td>35000.000000</td>\n",
       "      <td>35000.000000</td>\n",
       "      <td>28.990000</td>\n",
       "      <td>1354.660000</td>\n",
       "      <td>3.964280e+06</td>\n",
       "      <td>136.970000</td>\n",
       "      <td>15.000000</td>\n",
       "      <td>845.000000</td>\n",
       "      <td>850.000000</td>\n",
       "      <td>5.000000</td>\n",
       "      <td>65.000000</td>\n",
       "      <td>23.000000</td>\n",
       "      <td>647310.000000</td>\n",
       "      <td>134.300000</td>\n",
       "      <td>111.000000</td>\n",
       "    </tr>\n",
       "  </tbody>\n",
       "</table>\n",
       "</div>"
      ],
      "text/plain": [
       "          loan_amnt   funded_amnt  funded_amnt_inv      int_rate  \\\n",
       "count  21015.000000  21015.000000     21015.000000  21015.000000   \n",
       "mean   15247.552938  15247.552938     15241.224126     12.254598   \n",
       "std     8758.640338   8758.640338      8753.737831      4.210099   \n",
       "min     1000.000000   1000.000000      1000.000000      5.320000   \n",
       "25%     8000.000000   8000.000000      8000.000000      9.170000   \n",
       "50%    14000.000000  14000.000000     14000.000000     11.990000   \n",
       "75%    20400.000000  20400.000000     20400.000000     14.480000   \n",
       "max    35000.000000  35000.000000     35000.000000     28.990000   \n",
       "\n",
       "        installment    annual_inc           dti   delinq_2yrs  fico_range_low  \\\n",
       "count  21015.000000  2.101500e+04  21015.000000  21015.000000    21015.000000   \n",
       "mean     441.629202  8.003775e+04     19.317213      0.338330      694.943850   \n",
       "std      250.163947  6.237186e+04      8.766120      0.886337       31.055581   \n",
       "min       30.540000  3.800000e+03      0.000000      0.000000      660.000000   \n",
       "25%      258.700000  5.000000e+04     12.690000      0.000000      670.000000   \n",
       "50%      384.920000  6.946000e+04     18.790000      0.000000      690.000000   \n",
       "75%      589.785000  9.600000e+04     25.560000      0.000000      710.000000   \n",
       "max     1354.660000  3.964280e+06    136.970000     15.000000      845.000000   \n",
       "\n",
       "       fico_range_high  inq_last_6mths      open_acc       pub_rec  \\\n",
       "count     21015.000000    21015.000000  21015.000000  21015.000000   \n",
       "mean        698.943945        0.608232     12.226315      0.232072   \n",
       "std          31.056042        0.889796      5.792745      0.639771   \n",
       "min         664.000000        0.000000      1.000000      0.000000   \n",
       "25%         674.000000        0.000000      8.000000      0.000000   \n",
       "50%         694.000000        0.000000     11.000000      0.000000   \n",
       "75%         714.000000        1.000000     15.000000      0.000000   \n",
       "max         850.000000        5.000000     65.000000     23.000000   \n",
       "\n",
       "           revol_bal    revol_util     total_acc  \n",
       "count   21015.000000  21015.000000  21015.000000  \n",
       "mean    17674.564454     51.906013     25.616227  \n",
       "std     23093.748226     24.112053     12.192821  \n",
       "min         0.000000      0.000000      4.000000  \n",
       "25%      6379.500000     33.900000     17.000000  \n",
       "50%     12074.000000     51.800000     24.000000  \n",
       "75%     21499.000000     70.300000     32.000000  \n",
       "max    647310.000000    134.300000    111.000000  "
      ]
     },
     "execution_count": 6,
     "metadata": {},
     "output_type": "execute_result"
    }
   ],
   "source": [
    "# Get a statistical summary of the dataset\n",
    "df.describe()"
   ]
  },
  {
   "cell_type": "markdown",
   "metadata": {},
   "source": [
    "## EDA"
   ]
  },
  {
   "cell_type": "code",
   "execution_count": 7,
   "metadata": {},
   "outputs": [
    {
     "name": "stdout",
     "output_type": "stream",
     "text": [
      "['Fully Paid' 'Current' 'Charged Off' 'In Grace Period'\n",
      " 'Late (31-120 days)' 'Late (16-30 days)']\n"
     ]
    }
   ],
   "source": [
    "print(df['loan_status'].unique())"
   ]
  },
  {
   "cell_type": "code",
   "execution_count": 8,
   "metadata": {},
   "outputs": [
    {
     "data": {
      "text/plain": [
       "Fully Paid            14838\n",
       "Charged Off            3711\n",
       "Current                2285\n",
       "Late (31-120 days)      116\n",
       "In Grace Period          53\n",
       "Late (16-30 days)        12\n",
       "Name: loan_status, dtype: int64"
      ]
     },
     "execution_count": 8,
     "metadata": {},
     "output_type": "execute_result"
    }
   ],
   "source": [
    "# Get the count of each unique value in 'loan_status' column\n",
    "df['loan_status'].value_counts()"
   ]
  },
  {
   "cell_type": "code",
   "execution_count": 9,
   "metadata": {},
   "outputs": [
    {
     "data": {
      "image/png": "[encoded data removed]",
      "text/plain": [
       "<Figure size 1000x600 with 1 Axes>"
      ]
     },
     "metadata": {},
     "output_type": "display_data"
    }
   ],
   "source": [
    "# Create a bar plot for the count of each unique value in 'loan_status' column\n",
    "plt.figure(figsize=(10, 6))\n",
    "df['loan_status'].value_counts().plot(kind='bar')\n",
    "plt.xlabel('Loan Status')\n",
    "plt.ylabel('Count')\n",
    "plt.title('Count of Different Loan Status')\n",
    "plt.xticks(rotation=45)  \n",
    "plt.tight_layout()  \n",
    "plt.show()"
   ]
  },
  {
   "cell_type": "code",
   "execution_count": 10,
   "metadata": {},
   "outputs": [
    {
     "data": {
      "text/plain": [
       "Fully Paid            70.606709\n",
       "Charged Off           17.658815\n",
       "Current               10.873186\n",
       "Late (31-120 days)     0.551987\n",
       "In Grace Period        0.252201\n",
       "Late (16-30 days)      0.057102\n",
       "Name: loan_status, dtype: float64"
      ]
     },
     "execution_count": 10,
     "metadata": {},
     "output_type": "execute_result"
    }
   ],
   "source": [
    "# Get the percentage of each unique value in 'loan_status' column\n",
    "df['loan_status'].value_counts() / len(df) * 100"
   ]
  },
  {
   "cell_type": "code",
   "execution_count": 11,
   "metadata": {},
   "outputs": [
    {
     "data": {
      "text/plain": [
       "(20834, 29)"
      ]
     },
     "execution_count": 11,
     "metadata": {},
     "output_type": "execute_result"
    }
   ],
   "source": [
    "# Drop the rows with 'Late (16-30 days)', 'Late (31-120 days)', and 'In Grace Period' values in 'loan_status' column\n",
    "df = df[df['loan_status'] != 'Late (16-30 days)']\n",
    "df = df[df['loan_status'] != 'Late (31-120 days)']\n",
    "df = df[df['loan_status'] != 'In Grace Period']\n",
    "\n",
    "# Check the shape of the dataframe\n",
    "df.shape"
   ]
  },
  {
   "cell_type": "code",
   "execution_count": 12,
   "metadata": {},
   "outputs": [
    {
     "data": {
      "text/html": [
       "<div>\n",
       "<style scoped>\n",
       "    .dataframe tbody tr th:only-of-type {\n",
       "        vertical-align: middle;\n",
       "    }\n",
       "\n",
       "    .dataframe tbody tr th {\n",
       "        vertical-align: top;\n",
       "    }\n",
       "\n",
       "    .dataframe thead th {\n",
       "        text-align: right;\n",
       "    }\n",
       "</style>\n",
       "<table border=\"1\" class=\"dataframe\">\n",
       "  <thead>\n",
       "    <tr style=\"text-align: right;\">\n",
       "      <th></th>\n",
       "      <th>loan_amnt</th>\n",
       "      <th>funded_amnt</th>\n",
       "      <th>funded_amnt_inv</th>\n",
       "      <th>term</th>\n",
       "      <th>int_rate</th>\n",
       "      <th>installment</th>\n",
       "      <th>grade</th>\n",
       "      <th>sub_grade</th>\n",
       "      <th>emp_title</th>\n",
       "      <th>emp_length</th>\n",
       "      <th>...</th>\n",
       "      <th>fico_range_low</th>\n",
       "      <th>fico_range_high</th>\n",
       "      <th>inq_last_6mths</th>\n",
       "      <th>open_acc</th>\n",
       "      <th>pub_rec</th>\n",
       "      <th>revol_bal</th>\n",
       "      <th>revol_util</th>\n",
       "      <th>total_acc</th>\n",
       "      <th>initial_list_status</th>\n",
       "      <th>application_type</th>\n",
       "    </tr>\n",
       "  </thead>\n",
       "  <tbody>\n",
       "    <tr>\n",
       "      <th>0</th>\n",
       "      <td>3600.0</td>\n",
       "      <td>3600.0</td>\n",
       "      <td>3600.0</td>\n",
       "      <td>36 months</td>\n",
       "      <td>13.99</td>\n",
       "      <td>123.03</td>\n",
       "      <td>C</td>\n",
       "      <td>C4</td>\n",
       "      <td>leadman</td>\n",
       "      <td>10+ years</td>\n",
       "      <td>...</td>\n",
       "      <td>675.0</td>\n",
       "      <td>679.0</td>\n",
       "      <td>1.0</td>\n",
       "      <td>7.0</td>\n",
       "      <td>0.0</td>\n",
       "      <td>2765.0</td>\n",
       "      <td>29.7</td>\n",
       "      <td>13.0</td>\n",
       "      <td>w</td>\n",
       "      <td>Individual</td>\n",
       "    </tr>\n",
       "    <tr>\n",
       "      <th>1</th>\n",
       "      <td>24700.0</td>\n",
       "      <td>24700.0</td>\n",
       "      <td>24700.0</td>\n",
       "      <td>36 months</td>\n",
       "      <td>11.99</td>\n",
       "      <td>820.28</td>\n",
       "      <td>C</td>\n",
       "      <td>C1</td>\n",
       "      <td>Engineer</td>\n",
       "      <td>10+ years</td>\n",
       "      <td>...</td>\n",
       "      <td>715.0</td>\n",
       "      <td>719.0</td>\n",
       "      <td>4.0</td>\n",
       "      <td>22.0</td>\n",
       "      <td>0.0</td>\n",
       "      <td>21470.0</td>\n",
       "      <td>19.2</td>\n",
       "      <td>38.0</td>\n",
       "      <td>w</td>\n",
       "      <td>Individual</td>\n",
       "    </tr>\n",
       "    <tr>\n",
       "      <th>3</th>\n",
       "      <td>35000.0</td>\n",
       "      <td>35000.0</td>\n",
       "      <td>35000.0</td>\n",
       "      <td>60 months</td>\n",
       "      <td>14.85</td>\n",
       "      <td>829.90</td>\n",
       "      <td>C</td>\n",
       "      <td>C5</td>\n",
       "      <td>Information Systems Officer</td>\n",
       "      <td>10+ years</td>\n",
       "      <td>...</td>\n",
       "      <td>785.0</td>\n",
       "      <td>789.0</td>\n",
       "      <td>0.0</td>\n",
       "      <td>13.0</td>\n",
       "      <td>0.0</td>\n",
       "      <td>7802.0</td>\n",
       "      <td>11.6</td>\n",
       "      <td>17.0</td>\n",
       "      <td>w</td>\n",
       "      <td>Individual</td>\n",
       "    </tr>\n",
       "    <tr>\n",
       "      <th>4</th>\n",
       "      <td>10400.0</td>\n",
       "      <td>10400.0</td>\n",
       "      <td>10400.0</td>\n",
       "      <td>60 months</td>\n",
       "      <td>22.45</td>\n",
       "      <td>289.91</td>\n",
       "      <td>F</td>\n",
       "      <td>F1</td>\n",
       "      <td>Contract Specialist</td>\n",
       "      <td>3 years</td>\n",
       "      <td>...</td>\n",
       "      <td>695.0</td>\n",
       "      <td>699.0</td>\n",
       "      <td>3.0</td>\n",
       "      <td>12.0</td>\n",
       "      <td>0.0</td>\n",
       "      <td>21929.0</td>\n",
       "      <td>64.5</td>\n",
       "      <td>35.0</td>\n",
       "      <td>w</td>\n",
       "      <td>Individual</td>\n",
       "    </tr>\n",
       "    <tr>\n",
       "      <th>5</th>\n",
       "      <td>11950.0</td>\n",
       "      <td>11950.0</td>\n",
       "      <td>11950.0</td>\n",
       "      <td>36 months</td>\n",
       "      <td>13.44</td>\n",
       "      <td>405.18</td>\n",
       "      <td>C</td>\n",
       "      <td>C3</td>\n",
       "      <td>Veterinary Tecnician</td>\n",
       "      <td>4 years</td>\n",
       "      <td>...</td>\n",
       "      <td>690.0</td>\n",
       "      <td>694.0</td>\n",
       "      <td>0.0</td>\n",
       "      <td>5.0</td>\n",
       "      <td>0.0</td>\n",
       "      <td>8822.0</td>\n",
       "      <td>68.4</td>\n",
       "      <td>6.0</td>\n",
       "      <td>w</td>\n",
       "      <td>Individual</td>\n",
       "    </tr>\n",
       "  </tbody>\n",
       "</table>\n",
       "<p>5 rows × 29 columns</p>\n",
       "</div>"
      ],
      "text/plain": [
       "   loan_amnt  funded_amnt  funded_amnt_inv        term  int_rate  installment  \\\n",
       "0     3600.0       3600.0           3600.0   36 months     13.99       123.03   \n",
       "1    24700.0      24700.0          24700.0   36 months     11.99       820.28   \n",
       "3    35000.0      35000.0          35000.0   60 months     14.85       829.90   \n",
       "4    10400.0      10400.0          10400.0   60 months     22.45       289.91   \n",
       "5    11950.0      11950.0          11950.0   36 months     13.44       405.18   \n",
       "\n",
       "  grade sub_grade                    emp_title emp_length  ... fico_range_low  \\\n",
       "0     C        C4                      leadman  10+ years  ...          675.0   \n",
       "1     C        C1                     Engineer  10+ years  ...          715.0   \n",
       "3     C        C5  Information Systems Officer  10+ years  ...          785.0   \n",
       "4     F        F1          Contract Specialist    3 years  ...          695.0   \n",
       "5     C        C3         Veterinary Tecnician    4 years  ...          690.0   \n",
       "\n",
       "   fico_range_high inq_last_6mths open_acc pub_rec revol_bal  revol_util  \\\n",
       "0            679.0            1.0      7.0     0.0    2765.0        29.7   \n",
       "1            719.0            4.0     22.0     0.0   21470.0        19.2   \n",
       "3            789.0            0.0     13.0     0.0    7802.0        11.6   \n",
       "4            699.0            3.0     12.0     0.0   21929.0        64.5   \n",
       "5            694.0            0.0      5.0     0.0    8822.0        68.4   \n",
       "\n",
       "   total_acc initial_list_status  application_type  \n",
       "0       13.0                   w        Individual  \n",
       "1       38.0                   w        Individual  \n",
       "3       17.0                   w        Individual  \n",
       "4       35.0                   w        Individual  \n",
       "5        6.0                   w        Individual  \n",
       "\n",
       "[5 rows x 29 columns]"
      ]
     },
     "execution_count": 12,
     "metadata": {},
     "output_type": "execute_result"
    }
   ],
   "source": [
    "# Create a new DataFrame with modified loan_status values\n",
    "df_modified = df.copy()\n",
    "df_modified['loan_status'] = df_modified['loan_status'].replace(['Fully Paid', 'Current'], 'Paid')\n",
    "df_modified['loan_status'] = df_modified['loan_status'].replace(['Charged Off'], 'Default')\n",
    "\n",
    "# Show the first 5 rows of the modified DataFrame\n",
    "df_modified.head()"
   ]
  },
  {
   "cell_type": "code",
   "execution_count": 13,
   "metadata": {},
   "outputs": [
    {
     "data": {
      "text/plain": [
       "Paid       17123\n",
       "Default     3711\n",
       "Name: loan_status, dtype: int64"
      ]
     },
     "execution_count": 13,
     "metadata": {},
     "output_type": "execute_result"
    }
   ],
   "source": [
    "# Get the count of each unique value in 'loan_status' column\n",
    "df_modified['loan_status'].value_counts()"
   ]
  },
  {
   "cell_type": "code",
   "execution_count": 14,
   "metadata": {},
   "outputs": [
    {
     "data": {
      "image/png": "[encoded data removed]",
      "text/plain": [
       "<Figure size 1000x600 with 1 Axes>"
      ]
     },
     "metadata": {},
     "output_type": "display_data"
    }
   ],
   "source": [
    "# Create a bar plot for count of values in the modified 'loan_status' column\n",
    "plt.figure(figsize=(10, 6))\n",
    "df_modified['loan_status'].value_counts().plot(kind='bar')\n",
    "plt.xlabel('Loan Status')\n",
    "plt.ylabel('Count')\n",
    "plt.title('Count of Different Loan Status')\n",
    "plt.xticks(rotation=0)\n",
    "plt.tight_layout()\n",
    "plt.show()"
   ]
  },
  {
   "cell_type": "code",
   "execution_count": 15,
   "metadata": {},
   "outputs": [
    {
     "data": {
      "text/plain": [
       "Paid       82.18777\n",
       "Default    17.81223\n",
       "Name: loan_status, dtype: float64"
      ]
     },
     "execution_count": 15,
     "metadata": {},
     "output_type": "execute_result"
    }
   ],
   "source": [
    "# Get the percentage of each unique value in 'loan_status' column\n",
    "df_modified['loan_status'].value_counts() / len(df_modified) * 100"
   ]
  },
  {
   "cell_type": "code",
   "execution_count": 16,
   "metadata": {},
   "outputs": [
    {
     "data": {
      "image/png": "[encoded data removed]",
      "text/plain": [
       "<Figure size 1000x600 with 1 Axes>"
      ]
     },
     "metadata": {},
     "output_type": "display_data"
    }
   ],
   "source": [
    "# Create a pie chart for the percentage of each unique value in the modified 'loan_status' column\n",
    "plt.figure(figsize=(10, 6))\n",
    "loan_status_counts = df_modified['loan_status'].value_counts()\n",
    "loan_status_counts.plot(kind='pie', autopct='%1.2f%%')\n",
    "plt.title('Percentage of Different Loan Status')\n",
    "plt.tight_layout()\n",
    "plt.show()"
   ]
  },
  {
   "cell_type": "code",
   "execution_count": 17,
   "metadata": {},
   "outputs": [
    {
     "data": {
      "image/png": "[encoded data removed]",
      "text/plain": [
       "<Figure size 1000x600 with 1 Axes>"
      ]
     },
     "metadata": {},
     "output_type": "display_data"
    }
   ],
   "source": [
    "# Plot a histogram for the 'loan_amnt' column\n",
    "plt.figure(figsize=(10, 6))\n",
    "plt.hist(df_modified['loan_amnt'], bins=30, edgecolor='black')\n",
    "plt.xlabel('Loan Amount')\n",
    "plt.ylabel('Count')\n",
    "plt.title('Distribution of Loan Amount')\n",
    "plt.tight_layout()\n",
    "plt.show()"
   ]
  },
  {
   "cell_type": "markdown",
   "metadata": {},
   "source": [
    "The histogram shows the distribution of loan amounts in the dataset: \n",
    "- Most of the loans are in the range of $5,000 to $20,000."
   ]
  },
  {
   "cell_type": "code",
   "execution_count": null,
   "metadata": {},
   "outputs": [],
   "source": []
  },
  {
   "cell_type": "code",
   "execution_count": null,
   "metadata": {},
   "outputs": [],
   "source": []
  },
  {
   "cell_type": "markdown",
   "metadata": {},
   "source": [
    "### emp_length feature"
   ]
  },
  {
   "cell_type": "markdown",
   "metadata": {},
   "source": [
    "Let's plot the emp_length feature column."
   ]
  },
  {
   "cell_type": "code",
   "execution_count": 18,
   "metadata": {},
   "outputs": [
    {
     "data": {
      "text/plain": [
       "['1 year',\n",
       " '10+ years',\n",
       " '2 years',\n",
       " '3 years',\n",
       " '4 years',\n",
       " '5 years',\n",
       " '6 years',\n",
       " '7 years',\n",
       " '8 years',\n",
       " '9 years',\n",
       " '< 1 year']"
      ]
     },
     "execution_count": 18,
     "metadata": {},
     "output_type": "execute_result"
    }
   ],
   "source": [
    "sorted(df_modified['emp_length'].unique())"
   ]
  },
  {
   "cell_type": "code",
   "execution_count": 19,
   "metadata": {},
   "outputs": [
    {
     "data": {
      "text/plain": [
       "<Axes: xlabel='emp_length', ylabel='count'>"
      ]
     },
     "execution_count": 19,
     "metadata": {},
     "output_type": "execute_result"
    },
    {
     "data": {
      "image/png": "[encoded data removed]",
      "text/plain": [
       "<Figure size 1200x400 with 1 Axes>"
      ]
     },
     "metadata": {},
     "output_type": "display_data"
    }
   ],
   "source": [
    "emp_length_order = [ '< 1 year',\n",
    "                      '1 year',\n",
    "                     '2 years',\n",
    "                     '3 years',\n",
    "                     '4 years',\n",
    "                     '5 years',\n",
    "                     '6 years',\n",
    "                     '7 years',\n",
    "                     '8 years',\n",
    "                     '9 years',\n",
    "                     '10+ years']\n",
    "\n",
    "plt.figure(figsize=(12,4))\n",
    "sns.countplot(x='emp_length',data=df,order=emp_length_order)"
   ]
  },
  {
   "cell_type": "code",
   "execution_count": 20,
   "metadata": {},
   "outputs": [
    {
     "data": {
      "text/plain": [
       "<Axes: xlabel='emp_length', ylabel='count'>"
      ]
     },
     "execution_count": 20,
     "metadata": {},
     "output_type": "execute_result"
    },
    {
     "data": {
      "image/png": "[encoded data removed]",
      "text/plain": [
       "<Figure size 1200x400 with 1 Axes>"
      ]
     },
     "metadata": {},
     "output_type": "display_data"
    }
   ],
   "source": [
    "plt.figure(figsize=(12,4))\n",
    "sns.countplot(x='emp_length',data=df_modified,order=emp_length_order,hue='loan_status')"
   ]
  },
  {
   "cell_type": "markdown",
   "metadata": {},
   "source": [
    "Let's further visualize what percent of people per employment category didn't pay back their loan."
   ]
  },
  {
   "cell_type": "code",
   "execution_count": 21,
   "metadata": {},
   "outputs": [
    {
     "data": {
      "text/plain": [
       "emp_length\n",
       "1 year       0.254593\n",
       "10+ years    0.203087\n",
       "2 years      0.215760\n",
       "3 years      0.234525\n",
       "4 years      0.210930\n",
       "5 years      0.241472\n",
       "6 years      0.229620\n",
       "7 years      0.192424\n",
       "8 years      0.219851\n",
       "9 years      0.220365\n",
       "< 1 year     0.213863\n",
       "Name: loan_status, dtype: float64"
      ]
     },
     "execution_count": 21,
     "metadata": {},
     "output_type": "execute_result"
    }
   ],
   "source": [
    "emp_default = df_modified[df_modified['loan_status']==\"Default\"].groupby(\"emp_length\").count()['loan_status']\n",
    "\n",
    "emp_paid = df_modified[df_modified['loan_status']==\"Paid\"].groupby(\"emp_length\").count()['loan_status']\n",
    "\n",
    "emp_len = emp_default/emp_paid\n",
    "\n",
    "emp_len"
   ]
  },
  {
   "cell_type": "code",
   "execution_count": 22,
   "metadata": {},
   "outputs": [
    {
     "data": {
      "text/plain": [
       "<Axes: xlabel='emp_length'>"
      ]
     },
     "execution_count": 22,
     "metadata": {},
     "output_type": "execute_result"
    },
    {
     "data": {
      "image/png": "[encoded data removed]",
      "text/plain": [
       "<Figure size 640x480 with 1 Axes>"
      ]
     },
     "metadata": {},
     "output_type": "display_data"
    }
   ],
   "source": [
    "emp_len.plot(kind='bar')"
   ]
  },
  {
   "cell_type": "markdown",
   "metadata": {},
   "source": [
    "However, as we can see, the default rates are not much different across all employment lengths. Therefore, let's drop the emp_length column."
   ]
  },
  {
   "cell_type": "code",
   "execution_count": 23,
   "metadata": {},
   "outputs": [],
   "source": [
    "df_modified = df_modified.drop('emp_length',axis=1)"
   ]
  },
  {
   "cell_type": "code",
   "execution_count": 24,
   "metadata": {},
   "outputs": [],
   "source": [
    "# Save the data to a parquet file\n",
    "df_modified.to_parquet('dataset/LoanData_after_EDA.parquet')"
   ]
  }
 ],
 "metadata": {
  "kernelspec": {
   "display_name": "Python 3 (ipykernel)",
   "language": "python",
   "name": "python3"
  },
  "language_info": {
   "codemirror_mode": {
    "name": "ipython",
    "version": 3
   },
   "file_extension": ".py",
   "mimetype": "text/x-python",
   "name": "python",
   "nbconvert_exporter": "python",
   "pygments_lexer": "ipython3",
   "version": "3.8.17"
  }
 },
 "nbformat": 4,
 "nbformat_minor": 2
}
